{
 "cells": [
  {
   "cell_type": "code",
   "execution_count": 1,
   "id": "36da4cea",
   "metadata": {
    "execution": {
     "iopub.execute_input": "2023-04-04T04:54:48.388416Z",
     "iopub.status.busy": "2023-04-04T04:54:48.388019Z",
     "iopub.status.idle": "2023-04-04T04:55:11.544887Z",
     "shell.execute_reply": "2023-04-04T04:55:11.543654Z"
    },
    "id": "iJVLwp2Fw7W6",
    "outputId": "eb7a5600-646e-4263-99dd-1c554202ac34",
    "papermill": {
     "duration": 23.166803,
     "end_time": "2023-04-04T04:55:11.547639",
     "exception": false,
     "start_time": "2023-04-04T04:54:48.380836",
     "status": "completed"
    },
    "tags": []
   },
   "outputs": [
    {
     "name": "stdout",
     "output_type": "stream",
     "text": [
      "Collecting sentence-transformers\r\n",
      "  Downloading sentence-transformers-2.2.2.tar.gz (85 kB)\r\n",
      "\u001b[2K     \u001b[90m━━━━━━━━━━━━━━━━━━━━━━━━━━━━━━━━━━━━━━━━\u001b[0m \u001b[32m86.0/86.0 kB\u001b[0m \u001b[31m3.2 MB/s\u001b[0m eta \u001b[36m0:00:00\u001b[0m\r\n",
      "\u001b[?25h  Preparing metadata (setup.py) ... \u001b[?25l-\b \b\\\b \bdone\r\n",
      "\u001b[?25hRequirement already satisfied: transformers<5.0.0,>=4.6.0 in /opt/conda/lib/python3.7/site-packages (from sentence-transformers) (4.26.1)\r\n",
      "Requirement already satisfied: tqdm in /opt/conda/lib/python3.7/site-packages (from sentence-transformers) (4.64.1)\r\n",
      "Requirement already satisfied: torch>=1.6.0 in /opt/conda/lib/python3.7/site-packages (from sentence-transformers) (1.13.0)\r\n",
      "Requirement already satisfied: torchvision in /opt/conda/lib/python3.7/site-packages (from sentence-transformers) (0.14.0)\r\n",
      "Requirement already satisfied: numpy in /opt/conda/lib/python3.7/site-packages (from sentence-transformers) (1.21.6)\r\n",
      "Requirement already satisfied: scikit-learn in /opt/conda/lib/python3.7/site-packages (from sentence-transformers) (1.0.2)\r\n",
      "Requirement already satisfied: scipy in /opt/conda/lib/python3.7/site-packages (from sentence-transformers) (1.7.3)\r\n",
      "Requirement already satisfied: nltk in /opt/conda/lib/python3.7/site-packages (from sentence-transformers) (3.2.4)\r\n",
      "Requirement already satisfied: sentencepiece in /opt/conda/lib/python3.7/site-packages (from sentence-transformers) (0.1.97)\r\n",
      "Requirement already satisfied: huggingface-hub>=0.4.0 in /opt/conda/lib/python3.7/site-packages (from sentence-transformers) (0.12.1)\r\n",
      "Requirement already satisfied: typing-extensions>=3.7.4.3 in /opt/conda/lib/python3.7/site-packages (from huggingface-hub>=0.4.0->sentence-transformers) (4.4.0)\r\n",
      "Requirement already satisfied: importlib-metadata in /opt/conda/lib/python3.7/site-packages (from huggingface-hub>=0.4.0->sentence-transformers) (4.11.4)\r\n",
      "Requirement already satisfied: filelock in /opt/conda/lib/python3.7/site-packages (from huggingface-hub>=0.4.0->sentence-transformers) (3.9.0)\r\n",
      "Requirement already satisfied: packaging>=20.9 in /opt/conda/lib/python3.7/site-packages (from huggingface-hub>=0.4.0->sentence-transformers) (23.0)\r\n",
      "Requirement already satisfied: requests in /opt/conda/lib/python3.7/site-packages (from huggingface-hub>=0.4.0->sentence-transformers) (2.28.2)\r\n",
      "Requirement already satisfied: pyyaml>=5.1 in /opt/conda/lib/python3.7/site-packages (from huggingface-hub>=0.4.0->sentence-transformers) (6.0)\r\n",
      "Requirement already satisfied: regex!=2019.12.17 in /opt/conda/lib/python3.7/site-packages (from transformers<5.0.0,>=4.6.0->sentence-transformers) (2021.11.10)\r\n",
      "Requirement already satisfied: tokenizers!=0.11.3,<0.14,>=0.11.1 in /opt/conda/lib/python3.7/site-packages (from transformers<5.0.0,>=4.6.0->sentence-transformers) (0.13.2)\r\n",
      "Requirement already satisfied: six in /opt/conda/lib/python3.7/site-packages (from nltk->sentence-transformers) (1.16.0)\r\n",
      "Requirement already satisfied: threadpoolctl>=2.0.0 in /opt/conda/lib/python3.7/site-packages (from scikit-learn->sentence-transformers) (3.1.0)\r\n",
      "Requirement already satisfied: joblib>=0.11 in /opt/conda/lib/python3.7/site-packages (from scikit-learn->sentence-transformers) (1.2.0)\r\n",
      "Requirement already satisfied: pillow!=8.3.*,>=5.3.0 in /opt/conda/lib/python3.7/site-packages (from torchvision->sentence-transformers) (9.4.0)\r\n",
      "Requirement already satisfied: zipp>=0.5 in /opt/conda/lib/python3.7/site-packages (from importlib-metadata->huggingface-hub>=0.4.0->sentence-transformers) (3.11.0)\r\n",
      "Requirement already satisfied: idna<4,>=2.5 in /opt/conda/lib/python3.7/site-packages (from requests->huggingface-hub>=0.4.0->sentence-transformers) (3.4)\r\n",
      "Requirement already satisfied: urllib3<1.27,>=1.21.1 in /opt/conda/lib/python3.7/site-packages (from requests->huggingface-hub>=0.4.0->sentence-transformers) (1.26.14)\r\n",
      "Requirement already satisfied: charset-normalizer<4,>=2 in /opt/conda/lib/python3.7/site-packages (from requests->huggingface-hub>=0.4.0->sentence-transformers) (2.1.1)\r\n",
      "Requirement already satisfied: certifi>=2017.4.17 in /opt/conda/lib/python3.7/site-packages (from requests->huggingface-hub>=0.4.0->sentence-transformers) (2022.12.7)\r\n",
      "Building wheels for collected packages: sentence-transformers\r\n",
      "  Building wheel for sentence-transformers (setup.py) ... \u001b[?25l-\b \b\\\b \bdone\r\n",
      "\u001b[?25h  Created wheel for sentence-transformers: filename=sentence_transformers-2.2.2-py3-none-any.whl size=125938 sha256=1f535e8f93506aaae39d7bc7d1fa830d0d491255efcb35c669bdfe44836388f9\r\n",
      "  Stored in directory: /root/.cache/pip/wheels/83/71/2b/40d17d21937fed496fb99145227eca8f20b4891240ff60c86f\r\n",
      "Successfully built sentence-transformers\r\n",
      "Installing collected packages: sentence-transformers\r\n",
      "Successfully installed sentence-transformers-2.2.2\r\n",
      "\u001b[33mWARNING: Running pip as the 'root' user can result in broken permissions and conflicting behaviour with the system package manager. It is recommended to use a virtual environment instead: https://pip.pypa.io/warnings/venv\u001b[0m\u001b[33m\r\n",
      "\u001b[0mCollecting gdown\r\n",
      "  Downloading gdown-4.7.1-py3-none-any.whl (15 kB)\r\n",
      "Requirement already satisfied: filelock in /opt/conda/lib/python3.7/site-packages (from gdown) (3.9.0)\r\n",
      "Requirement already satisfied: requests[socks] in /opt/conda/lib/python3.7/site-packages (from gdown) (2.28.2)\r\n",
      "Requirement already satisfied: tqdm in /opt/conda/lib/python3.7/site-packages (from gdown) (4.64.1)\r\n",
      "Requirement already satisfied: beautifulsoup4 in /opt/conda/lib/python3.7/site-packages (from gdown) (4.11.1)\r\n",
      "Requirement already satisfied: six in /opt/conda/lib/python3.7/site-packages (from gdown) (1.16.0)\r\n",
      "Requirement already satisfied: soupsieve>1.2 in /opt/conda/lib/python3.7/site-packages (from beautifulsoup4->gdown) (2.3.2.post1)\r\n",
      "Requirement already satisfied: urllib3<1.27,>=1.21.1 in /opt/conda/lib/python3.7/site-packages (from requests[socks]->gdown) (1.26.14)\r\n",
      "Requirement already satisfied: charset-normalizer<4,>=2 in /opt/conda/lib/python3.7/site-packages (from requests[socks]->gdown) (2.1.1)\r\n",
      "Requirement already satisfied: certifi>=2017.4.17 in /opt/conda/lib/python3.7/site-packages (from requests[socks]->gdown) (2022.12.7)\r\n",
      "Requirement already satisfied: idna<4,>=2.5 in /opt/conda/lib/python3.7/site-packages (from requests[socks]->gdown) (3.4)\r\n",
      "Requirement already satisfied: PySocks!=1.5.7,>=1.5.6 in /opt/conda/lib/python3.7/site-packages (from requests[socks]->gdown) (1.7.1)\r\n",
      "Installing collected packages: gdown\r\n",
      "Successfully installed gdown-4.7.1\r\n",
      "\u001b[33mWARNING: Running pip as the 'root' user can result in broken permissions and conflicting behaviour with the system package manager. It is recommended to use a virtual environment instead: https://pip.pypa.io/warnings/venv\u001b[0m\u001b[33m\r\n",
      "\u001b[0m"
     ]
    }
   ],
   "source": [
    "!pip install -U sentence-transformers \n",
    "!pip install --upgrade --no-cache-dir gdown"
   ]
  },
  {
   "cell_type": "code",
   "execution_count": 2,
   "id": "1d1f2087",
   "metadata": {
    "execution": {
     "iopub.execute_input": "2023-04-04T04:55:11.560767Z",
     "iopub.status.busy": "2023-04-04T04:55:11.560452Z",
     "iopub.status.idle": "2023-04-04T04:55:12.671541Z",
     "shell.execute_reply": "2023-04-04T04:55:12.668443Z"
    },
    "id": "MHmI6JkagHwR",
    "outputId": "6beb3325-b64c-41b7-bab9-e1545257c595",
    "papermill": {
     "duration": 1.123128,
     "end_time": "2023-04-04T04:55:12.676874",
     "exception": false,
     "start_time": "2023-04-04T04:55:11.553746",
     "status": "completed"
    },
    "tags": []
   },
   "outputs": [
    {
     "name": "stdout",
     "output_type": "stream",
     "text": [
      "Tue Apr  4 04:55:12 2023       \r\n",
      "+-----------------------------------------------------------------------------+\r\n",
      "| NVIDIA-SMI 470.161.03   Driver Version: 470.161.03   CUDA Version: 11.4     |\r\n",
      "|-------------------------------+----------------------+----------------------+\r\n",
      "| GPU  Name        Persistence-M| Bus-Id        Disp.A | Volatile Uncorr. ECC |\r\n",
      "| Fan  Temp  Perf  Pwr:Usage/Cap|         Memory-Usage | GPU-Util  Compute M. |\r\n",
      "|                               |                      |               MIG M. |\r\n",
      "|===============================+======================+======================|\r\n",
      "|   0  Tesla T4            Off  | 00000000:00:04.0 Off |                    0 |\r\n",
      "| N/A   48C    P8    10W /  70W |      0MiB / 15109MiB |      0%      Default |\r\n",
      "|                               |                      |                  N/A |\r\n",
      "+-------------------------------+----------------------+----------------------+\r\n",
      "|   1  Tesla T4            Off  | 00000000:00:05.0 Off |                    0 |\r\n",
      "| N/A   49C    P8    11W /  70W |      0MiB / 15109MiB |      0%      Default |\r\n",
      "|                               |                      |                  N/A |\r\n",
      "+-------------------------------+----------------------+----------------------+\r\n",
      "                                                                               \r\n",
      "+-----------------------------------------------------------------------------+\r\n",
      "| Processes:                                                                  |\r\n",
      "|  GPU   GI   CI        PID   Type   Process name                  GPU Memory |\r\n",
      "|        ID   ID                                                   Usage      |\r\n",
      "|=============================================================================|\r\n",
      "|  No running processes found                                                 |\r\n",
      "+-----------------------------------------------------------------------------+\r\n"
     ]
    }
   ],
   "source": [
    "!nvidia-smi "
   ]
  },
  {
   "cell_type": "code",
   "execution_count": 3,
   "id": "01be98be",
   "metadata": {
    "execution": {
     "iopub.execute_input": "2023-04-04T04:55:12.709174Z",
     "iopub.status.busy": "2023-04-04T04:55:12.708635Z",
     "iopub.status.idle": "2023-04-04T04:55:12.715334Z",
     "shell.execute_reply": "2023-04-04T04:55:12.714192Z"
    },
    "papermill": {
     "duration": 0.027365,
     "end_time": "2023-04-04T04:55:12.718603",
     "exception": false,
     "start_time": "2023-04-04T04:55:12.691238",
     "status": "completed"
    },
    "tags": []
   },
   "outputs": [],
   "source": [
    "data_output_path = \"data/\"\n",
    "teacher_model_url = \"https://drive.google.com/uc?id=1P_NrfYL6XxVO95arSfomcgKMkvLxd-mX\"\n",
    "model_output_path = \"model/\"\n",
    "data_url = \"https://drive.google.com/uc?id=1k7mkiQvdNU7fpns4-0KZPQ4gMWa-vj_s\""
   ]
  },
  {
   "cell_type": "code",
   "execution_count": null,
   "id": "31c2897e",
   "metadata": {
    "execution": {
     "iopub.execute_input": "2023-04-04T04:55:12.757474Z",
     "iopub.status.busy": "2023-04-04T04:55:12.757037Z",
     "iopub.status.idle": "2023-04-04T04:55:17.502866Z",
     "shell.execute_reply": "2023-04-04T04:55:17.501896Z"
    },
    "papermill": {
     "duration": 4.767604,
     "end_time": "2023-04-04T04:55:17.505597",
     "exception": false,
     "start_time": "2023-04-04T04:55:12.737993",
     "status": "completed"
    },
    "tags": []
   },
   "outputs": [],
   "source": [
    "import gdown\n",
    "gdown.download(teacher_model_url,model_output_path, quiet = False)\n",
    "gdown.download(data_url, data_output_path,quiet=False)\n"
   ]
  },
  {
   "cell_type": "code",
   "execution_count": 5,
   "id": "8e258657",
   "metadata": {
    "execution": {
     "iopub.execute_input": "2023-04-04T04:55:17.530430Z",
     "iopub.status.busy": "2023-04-04T04:55:17.529718Z",
     "iopub.status.idle": "2023-04-04T04:55:23.247239Z",
     "shell.execute_reply": "2023-04-04T04:55:23.245926Z"
    },
    "papermill": {
     "duration": 5.732717,
     "end_time": "2023-04-04T04:55:23.250400",
     "exception": false,
     "start_time": "2023-04-04T04:55:17.517683",
     "status": "completed"
    },
    "tags": []
   },
   "outputs": [
    {
     "name": "stdout",
     "output_type": "stream",
     "text": [
      "Archive:  /kaggle/working/model/mpnet_mnr_squad2.zip\r\n",
      "  inflating: /kaggle/working/model/mpnet-mnr-squad2/1_Pooling/config.json  \r\n",
      "  inflating: /kaggle/working/model/mpnet-mnr-squad2/README.md  \r\n",
      "  inflating: /kaggle/working/model/mpnet-mnr-squad2/config.json  \r\n",
      "  inflating: /kaggle/working/model/mpnet-mnr-squad2/config_sentence_transformers.json  \r\n",
      "  inflating: /kaggle/working/model/mpnet-mnr-squad2/modules.json  \r\n",
      "  inflating: /kaggle/working/model/mpnet-mnr-squad2/pytorch_model.bin  \r\n",
      "  inflating: /kaggle/working/model/mpnet-mnr-squad2/sentence_bert_config.json  \r\n",
      "  inflating: /kaggle/working/model/mpnet-mnr-squad2/special_tokens_map.json  \r\n",
      "  inflating: /kaggle/working/model/mpnet-mnr-squad2/tokenizer.json  \r\n",
      "  inflating: /kaggle/working/model/mpnet-mnr-squad2/tokenizer_config.json  \r\n",
      "  inflating: /kaggle/working/model/mpnet-mnr-squad2/vocab.txt  \r\n"
     ]
    }
   ],
   "source": [
    "!unzip /kaggle/working/model/mpnet_mnr_squad2.zip -d /kaggle/working/model"
   ]
  },
  {
   "cell_type": "code",
   "execution_count": 6,
   "id": "69935b27",
   "metadata": {
    "execution": {
     "iopub.execute_input": "2023-04-04T04:55:23.268521Z",
     "iopub.status.busy": "2023-04-04T04:55:23.268169Z",
     "iopub.status.idle": "2023-04-04T04:55:24.324011Z",
     "shell.execute_reply": "2023-04-04T04:55:24.322833Z"
    },
    "papermill": {
     "duration": 1.067183,
     "end_time": "2023-04-04T04:55:24.326655",
     "exception": false,
     "start_time": "2023-04-04T04:55:23.259472",
     "status": "completed"
    },
    "tags": []
   },
   "outputs": [
    {
     "name": "stdout",
     "output_type": "stream",
     "text": [
      "1_Pooling\t\t\t   sentence_bert_config.json\r\n",
      "README.md\t\t\t   special_tokens_map.json\r\n",
      "config.json\t\t\t   tokenizer.json\r\n",
      "config_sentence_transformers.json  tokenizer_config.json\r\n",
      "modules.json\t\t\t   vocab.txt\r\n",
      "pytorch_model.bin\r\n"
     ]
    }
   ],
   "source": [
    "!cd /kaggle/working/model/mpnet-mnr-squad2/ && ls"
   ]
  },
  {
   "cell_type": "code",
   "execution_count": 7,
   "id": "ad1dc764",
   "metadata": {
    "execution": {
     "iopub.execute_input": "2023-04-04T04:55:24.343622Z",
     "iopub.status.busy": "2023-04-04T04:55:24.343264Z",
     "iopub.status.idle": "2023-04-04T04:55:24.348349Z",
     "shell.execute_reply": "2023-04-04T04:55:24.347253Z"
    },
    "papermill": {
     "duration": 0.016129,
     "end_time": "2023-04-04T04:55:24.350500",
     "exception": false,
     "start_time": "2023-04-04T04:55:24.334371",
     "status": "completed"
    },
    "tags": []
   },
   "outputs": [],
   "source": [
    "teacher_model_location = '/kaggle/working/model/mpnet-mnr-squad2'"
   ]
  },
  {
   "cell_type": "code",
   "execution_count": 10,
   "id": "415e8837",
   "metadata": {
    "execution": {
     "iopub.execute_input": "2023-04-04T04:55:25.399565Z",
     "iopub.status.busy": "2023-04-04T04:55:25.397919Z",
     "iopub.status.idle": "2023-04-04T04:56:08.270628Z",
     "shell.execute_reply": "2023-04-04T04:56:08.269557Z"
    },
    "id": "bKKYOszqw2-s",
    "outputId": "f5930606-fd43-48e6-e92e-ceb43257309a",
    "papermill": {
     "duration": 42.883894,
     "end_time": "2023-04-04T04:56:08.273146",
     "exception": false,
     "start_time": "2023-04-04T04:55:25.389252",
     "status": "completed"
    },
    "tags": []
   },
   "outputs": [
    {
     "data": {
      "text/plain": [
       "SentenceTransformer(\n",
       "  (0): Transformer({'max_seq_length': 512, 'do_lower_case': False}) with Transformer model: XLMRobertaModel \n",
       "  (1): Pooling({'word_embedding_dimension': 768, 'pooling_mode_cls_token': False, 'pooling_mode_mean_tokens': True, 'pooling_mode_max_tokens': False, 'pooling_mode_mean_sqrt_len_tokens': False})\n",
       ")"
      ]
     },
     "execution_count": 10,
     "metadata": {},
     "output_type": "execute_result"
    }
   ],
   "source": [
    "from sentence_transformers import SentenceTransformer, models\n",
    "\n",
    "#Load the transformer model(Multi-Lingual)\n",
    "transformer_model = models.Transformer('xlm-roberta-base')\n",
    "\n",
    "# Add pooling layer\n",
    "pooling_model = models.Pooling(\n",
    "    transformer_model.get_word_embedding_dimension(),\n",
    "    pooling_mode_mean_tokens= True\n",
    ")\n",
    "\n",
    "xlmr = models.Transformer('xlm-roberta-base')\n",
    "pooler = models.Pooling(\n",
    "    xlmr.get_word_embedding_dimension(),\n",
    "    pooling_mode_mean_tokens=True\n",
    ")\n",
    "\n",
    "\n",
    "\n",
    "\n",
    "# # Create the sentence transformer model\n",
    "student = SentenceTransformer(modules=[transformer_model, pooling_model])\n",
    "\n",
    "\n",
    "student.to('cuda:1')\n",
    "student\n"
   ]
  },
  {
   "cell_type": "code",
   "execution_count": 11,
   "id": "8756c711",
   "metadata": {
    "execution": {
     "iopub.execute_input": "2023-04-04T04:56:08.290150Z",
     "iopub.status.busy": "2023-04-04T04:56:08.289849Z",
     "iopub.status.idle": "2023-04-04T04:56:09.798503Z",
     "shell.execute_reply": "2023-04-04T04:56:09.797405Z"
    },
    "id": "MWpOj_1xxK8d",
    "outputId": "f9b2b939-ef81-4046-f5af-ae39c9175d07",
    "papermill": {
     "duration": 1.51996,
     "end_time": "2023-04-04T04:56:09.800951",
     "exception": false,
     "start_time": "2023-04-04T04:56:08.280991",
     "status": "completed"
    },
    "tags": []
   },
   "outputs": [
    {
     "data": {
      "text/plain": [
       "SentenceTransformer(\n",
       "  (0): Transformer({'max_seq_length': 512, 'do_lower_case': False}) with Transformer model: MPNetModel \n",
       "  (1): Pooling({'word_embedding_dimension': 768, 'pooling_mode_cls_token': False, 'pooling_mode_mean_tokens': True, 'pooling_mode_max_tokens': False, 'pooling_mode_mean_sqrt_len_tokens': False})\n",
       ")"
      ]
     },
     "execution_count": 11,
     "metadata": {},
     "output_type": "execute_result"
    }
   ],
   "source": [
    "teacher = SentenceTransformer(teacher_model_location)\n",
    "teacher.to('cuda:1')\n",
    "teacher"
   ]
  },
  {
   "cell_type": "code",
   "execution_count": 12,
   "id": "0b192f6a",
   "metadata": {
    "execution": {
     "iopub.execute_input": "2023-04-04T04:56:09.819274Z",
     "iopub.status.busy": "2023-04-04T04:56:09.818972Z",
     "iopub.status.idle": "2023-04-04T04:56:09.824159Z",
     "shell.execute_reply": "2023-04-04T04:56:09.823037Z"
    },
    "id": "k57M3n5dy4ud",
    "papermill": {
     "duration": 0.017818,
     "end_time": "2023-04-04T04:56:09.826902",
     "exception": false,
     "start_time": "2023-04-04T04:56:09.809084",
     "status": "completed"
    },
    "tags": []
   },
   "outputs": [],
   "source": [
    "batch_size = 32\n",
    "\n",
    "from sentence_transformers import ParallelSentencesDataset\n",
    "\n",
    "data = ParallelSentencesDataset(student_model=student, \n",
    "                                teacher_model=teacher,\n",
    "                                batch_size=batch_size, \n",
    "                                use_embedding_cache=True)\n"
   ]
  },
  {
   "cell_type": "markdown",
   "id": "1ec5803c",
   "metadata": {},
   "source": [
    "### Data preparation "
   ]
  },
  {
   "cell_type": "code",
   "execution_count": null,
   "id": "038d318a",
   "metadata": {},
   "outputs": [],
   "source": [
    "!tar -xf data/hasan-etal-2020-low.tar.bz2"
   ]
  },
  {
   "cell_type": "code",
   "execution_count": null,
   "id": "5fbb91e7",
   "metadata": {},
   "outputs": [],
   "source": [
    "with open('hasan-etal-2020-low/2.75M/original_corpus.bn', 'r') as f:\n",
    "    all_bangla_text = f.read()"
   ]
  },
  {
   "cell_type": "code",
   "execution_count": null,
   "id": "dbe33877",
   "metadata": {},
   "outputs": [],
   "source": [
    "all_b_text = all_bangla_text.split(\"\\n\")"
   ]
  },
  {
   "cell_type": "code",
   "execution_count": null,
   "id": "39162d3b",
   "metadata": {},
   "outputs": [],
   "source": [
    "with open('hasan-etal-2020-low/2.75M/original_corpus.en', 'r') as f:\n",
    "    all_english_text = f.read()"
   ]
  },
  {
   "cell_type": "code",
   "execution_count": null,
   "id": "83e152e4",
   "metadata": {},
   "outputs": [],
   "source": [
    "all_e_text = all_english_text.split(\"\\n\")"
   ]
  },
  {
   "cell_type": "code",
   "execution_count": null,
   "id": "d9c85b45",
   "metadata": {},
   "outputs": [],
   "source": [
    "e_text = all_e_text[1200000:1600000]\n",
    "b_text = all_b_text[1200000:1600000]"
   ]
  },
  {
   "cell_type": "code",
   "execution_count": null,
   "id": "e853b940",
   "metadata": {},
   "outputs": [],
   "source": [
    "train_samples = []\n",
    "for m , n in zip(e_text,b_text):\n",
    "  train_samples.append(m+'\\t'+n)"
   ]
  },
  {
   "cell_type": "code",
   "execution_count": null,
   "id": "99c5bd17",
   "metadata": {},
   "outputs": [],
   "source": [
    "import pickle\n",
    "\n",
    "with open('e2b4lakh(12-16).bin','wb') as f:\n",
    "  pickle.dump(train_samples,f)"
   ]
  },
  {
   "cell_type": "code",
   "execution_count": null,
   "id": "1f930897",
   "metadata": {},
   "outputs": [],
   "source": [
    "import gzip\n",
    "import os\n",
    "\n",
    "if not os.path.exists('./data'):\n",
    "    os.mkdir('./data')\n",
    "\n",
    "# save to file, sentence transformers reader will expect tsv.gz file\n",
    "with gzip.open(f'./data/e2b4lakh(12-16).bin.tsv.gz', 'wt', encoding='utf-8') as f:\n",
    "      f.write('\\n'.join(train_samples))"
   ]
  },
  {
   "cell_type": "code",
   "execution_count": null,
   "id": "b51b9f2c",
   "metadata": {},
   "outputs": [],
   "source": [
    "batch_size = 32\n",
    "\n",
    "from sentence_transformers import ParallelSentencesDataset\n",
    "\n",
    "data = ParallelSentencesDataset(student_model=student, \n",
    "                                teacher_model=teacher,\n",
    "                                batch_size=batch_size, \n",
    "                                use_embedding_cache=True)"
   ]
  },
  {
   "cell_type": "code",
   "execution_count": 14,
   "id": "c2f51b12",
   "metadata": {
    "execution": {
     "iopub.execute_input": "2023-04-04T04:56:10.884421Z",
     "iopub.status.busy": "2023-04-04T04:56:10.884063Z",
     "iopub.status.idle": "2023-04-04T04:56:17.977250Z",
     "shell.execute_reply": "2023-04-04T04:56:17.976095Z"
    },
    "id": "R9G3cjIlzDc8",
    "papermill": {
     "duration": 7.104678,
     "end_time": "2023-04-04T04:56:17.979848",
     "exception": false,
     "start_time": "2023-04-04T04:56:10.875170",
     "status": "completed"
    },
    "tags": []
   },
   "outputs": [],
   "source": [
    "max_sentence_length = 512\n",
    "data.load_data('data/e2b4lakh(12-16).bin.tsv.gz', max_sentence_length=max_sentence_length)"
   ]
  },
  {
   "cell_type": "code",
   "execution_count": 15,
   "id": "a5aa9bbe",
   "metadata": {
    "execution": {
     "iopub.execute_input": "2023-04-04T04:56:17.997229Z",
     "iopub.status.busy": "2023-04-04T04:56:17.996931Z",
     "iopub.status.idle": "2023-04-04T04:56:18.002088Z",
     "shell.execute_reply": "2023-04-04T04:56:18.000933Z"
    },
    "id": "6PEuozsK0iUB",
    "papermill": {
     "duration": 0.016788,
     "end_time": "2023-04-04T04:56:18.004649",
     "exception": false,
     "start_time": "2023-04-04T04:56:17.987861",
     "status": "completed"
    },
    "tags": []
   },
   "outputs": [],
   "source": [
    "from torch.utils.data import DataLoader\n",
    "\n",
    "loader = DataLoader(data, shuffle=True, batch_size=batch_size)"
   ]
  },
  {
   "cell_type": "code",
   "execution_count": 16,
   "id": "6a7a7507",
   "metadata": {
    "execution": {
     "iopub.execute_input": "2023-04-04T04:56:18.021902Z",
     "iopub.status.busy": "2023-04-04T04:56:18.021632Z",
     "iopub.status.idle": "2023-04-04T04:56:18.031592Z",
     "shell.execute_reply": "2023-04-04T04:56:18.030694Z"
    },
    "id": "33N1q-Xe0nQV",
    "papermill": {
     "duration": 0.020948,
     "end_time": "2023-04-04T04:56:18.033620",
     "exception": false,
     "start_time": "2023-04-04T04:56:18.012672",
     "status": "completed"
    },
    "tags": []
   },
   "outputs": [],
   "source": [
    "from sentence_transformers import losses\n",
    "\n",
    "loss = losses.MSELoss(model=student)"
   ]
  },
  {
   "cell_type": "code",
   "execution_count": 17,
   "id": "483734b1",
   "metadata": {
    "execution": {
     "iopub.execute_input": "2023-04-04T04:56:18.051087Z",
     "iopub.status.busy": "2023-04-04T04:56:18.050255Z",
     "iopub.status.idle": "2023-04-04T04:56:18.055883Z",
     "shell.execute_reply": "2023-04-04T04:56:18.054905Z"
    },
    "id": "kClAPxmr0pxQ",
    "papermill": {
     "duration": 0.016638,
     "end_time": "2023-04-04T04:56:18.057986",
     "exception": false,
     "start_time": "2023-04-04T04:56:18.041348",
     "status": "completed"
    },
    "tags": []
   },
   "outputs": [],
   "source": [
    "out_dir = \"TUNED_DPR_6LAKH_Epoch_14\"\n",
    "import os \n",
    "if not os.path.exists(out_dir):\n",
    "    os.mkdir(out_dir)"
   ]
  },
  {
   "cell_type": "code",
   "execution_count": 18,
   "id": "c83a4a07",
   "metadata": {
    "execution": {
     "iopub.execute_input": "2023-04-04T04:56:18.074801Z",
     "iopub.status.busy": "2023-04-04T04:56:18.073788Z",
     "iopub.status.idle": "2023-04-04T04:56:18.078493Z",
     "shell.execute_reply": "2023-04-04T04:56:18.077574Z"
    },
    "papermill": {
     "duration": 0.015126,
     "end_time": "2023-04-04T04:56:18.080602",
     "exception": false,
     "start_time": "2023-04-04T04:56:18.065476",
     "status": "completed"
    },
    "tags": []
   },
   "outputs": [],
   "source": [
    "import os\n",
    "os.environ[\"TOKENIZERS_PARALLELISM\"] = \"false\""
   ]
  },
  {
   "cell_type": "code",
   "execution_count": 19,
   "id": "90c25f81",
   "metadata": {
    "execution": {
     "iopub.execute_input": "2023-04-04T04:56:18.096873Z",
     "iopub.status.busy": "2023-04-04T04:56:18.096578Z",
     "iopub.status.idle": "2023-04-04T13:51:27.954944Z",
     "shell.execute_reply": "2023-04-04T13:51:27.953870Z"
    },
    "id": "ZOsp_MnWd08T",
    "outputId": "9c10e211-97bd-441d-a372-7f90f3240d8b",
    "papermill": {
     "duration": 32109.870526,
     "end_time": "2023-04-04T13:51:27.958699",
     "exception": false,
     "start_time": "2023-04-04T04:56:18.088173",
     "status": "completed"
    },
    "tags": []
   },
   "outputs": [
    {
     "data": {
      "application/vnd.jupyter.widget-view+json": {
       "model_id": "e00c0508108346ef9837745acd952edd",
       "version_major": 2,
       "version_minor": 0
      },
      "text/plain": [
       "Epoch:   0%|          | 0/2 [00:00<?, ?it/s]"
      ]
     },
     "metadata": {},
     "output_type": "display_data"
    },
    {
     "data": {
      "application/vnd.jupyter.widget-view+json": {
       "model_id": "bea161abc6d64977b49dc98d4f593938",
       "version_major": 2,
       "version_minor": 0
      },
      "text/plain": [
       "Iteration:   0%|          | 0/34408 [00:00<?, ?it/s]"
      ]
     },
     "metadata": {},
     "output_type": "display_data"
    },
    {
     "name": "stderr",
     "output_type": "stream",
     "text": [
      "/opt/conda/lib/python3.7/site-packages/sentence_transformers/SentenceTransformer.py:547: UserWarning: Creating a tensor from a list of numpy.ndarrays is extremely slow. Please consider converting the list to a single numpy.ndarray with numpy.array() before converting to a tensor. (Triggered internally at /usr/local/src/pytorch/torch/csrc/utils/tensor_new.cpp:230.)\n",
      "  labels = torch.tensor(labels)\n"
     ]
    },
    {
     "data": {
      "application/vnd.jupyter.widget-view+json": {
       "model_id": "5efbceeaed8f457696a8a53746687732",
       "version_major": 2,
       "version_minor": 0
      },
      "text/plain": [
       "Iteration:   0%|          | 0/34408 [00:00<?, ?it/s]"
      ]
     },
     "metadata": {},
     "output_type": "display_data"
    }
   ],
   "source": [
    "epochs = 2\n",
    "warmup_steps = int(len(loader) * epochs * 0.1)\n",
    "\n",
    "student.fit(\n",
    "    train_objectives=[(loader, loss)],\n",
    "    epochs=epochs,\n",
    "    warmup_steps=warmup_steps,\n",
    "    output_path=out_dir,\n",
    "    optimizer_params={'lr': 2e-5, 'eps': 1e-6},#'correct_bias':False}, \n",
    "    save_best_model=True,\n",
    "    show_progress_bar=True\n",
    ")"
   ]
  },
  {
   "cell_type": "code",
   "execution_count": null,
   "id": "66585256",
   "metadata": {
    "papermill": {
     "duration": 0.011724,
     "end_time": "2023-04-04T13:51:27.982858",
     "exception": false,
     "start_time": "2023-04-04T13:51:27.971134",
     "status": "completed"
    },
    "tags": []
   },
   "outputs": [],
   "source": []
  }
 ],
 "metadata": {
  "kernelspec": {
   "display_name": "Python 3",
   "language": "python",
   "name": "python3"
  },
  "language_info": {
   "codemirror_mode": {
    "name": "ipython",
    "version": 3
   },
   "file_extension": ".py",
   "mimetype": "text/x-python",
   "name": "python",
   "nbconvert_exporter": "python",
   "pygments_lexer": "ipython3",
   "version": "3.7.12"
  },
  "papermill": {
   "default_parameters": {},
   "duration": 32216.045018,
   "end_time": "2023-04-04T13:51:31.681859",
   "environment_variables": {},
   "exception": null,
   "input_path": "__notebook__.ipynb",
   "output_path": "__notebook__.ipynb",
   "parameters": {},
   "start_time": "2023-04-04T04:54:35.636841",
   "version": "2.4.0"
  },
  "widgets": {
   "application/vnd.jupyter.widget-state+json": {
    "state": {
     "0478fa836116476c92e115d911b96af3": {
      "model_module": "@jupyter-widgets/controls",
      "model_module_version": "1.5.0",
      "model_name": "FloatProgressModel",
      "state": {
       "_dom_classes": [],
       "_model_module": "@jupyter-widgets/controls",
       "_model_module_version": "1.5.0",
       "_model_name": "FloatProgressModel",
       "_view_count": null,
       "_view_module": "@jupyter-widgets/controls",
       "_view_module_version": "1.5.0",
       "_view_name": "ProgressView",
       "bar_style": "success",
       "description": "",
       "description_tooltip": null,
       "layout": "IPY_MODEL_316efc5982f74b5394df2c3b52fd7c9d",
       "max": 34408,
       "min": 0,
       "orientation": "horizontal",
       "style": "IPY_MODEL_a211ec57f8bc48abac3523afac81ceda",
       "value": 34408
      }
     },
     "0e631a7faa9e45e5a005b8a0d907472a": {
      "model_module": "@jupyter-widgets/base",
      "model_module_version": "1.2.0",
      "model_name": "LayoutModel",
      "state": {
       "_model_module": "@jupyter-widgets/base",
       "_model_module_version": "1.2.0",
       "_model_name": "LayoutModel",
       "_view_count": null,
       "_view_module": "@jupyter-widgets/base",
       "_view_module_version": "1.2.0",
       "_view_name": "LayoutView",
       "align_content": null,
       "align_items": null,
       "align_self": null,
       "border": null,
       "bottom": null,
       "display": null,
       "flex": null,
       "flex_flow": null,
       "grid_area": null,
       "grid_auto_columns": null,
       "grid_auto_flow": null,
       "grid_auto_rows": null,
       "grid_column": null,
       "grid_gap": null,
       "grid_row": null,
       "grid_template_areas": null,
       "grid_template_columns": null,
       "grid_template_rows": null,
       "height": null,
       "justify_content": null,
       "justify_items": null,
       "left": null,
       "margin": null,
       "max_height": null,
       "max_width": null,
       "min_height": null,
       "min_width": null,
       "object_fit": null,
       "object_position": null,
       "order": null,
       "overflow": null,
       "overflow_x": null,
       "overflow_y": null,
       "padding": null,
       "right": null,
       "top": null,
       "visibility": null,
       "width": null
      }
     },
     "316efc5982f74b5394df2c3b52fd7c9d": {
      "model_module": "@jupyter-widgets/base",
      "model_module_version": "1.2.0",
      "model_name": "LayoutModel",
      "state": {
       "_model_module": "@jupyter-widgets/base",
       "_model_module_version": "1.2.0",
       "_model_name": "LayoutModel",
       "_view_count": null,
       "_view_module": "@jupyter-widgets/base",
       "_view_module_version": "1.2.0",
       "_view_name": "LayoutView",
       "align_content": null,
       "align_items": null,
       "align_self": null,
       "border": null,
       "bottom": null,
       "display": null,
       "flex": null,
       "flex_flow": null,
       "grid_area": null,
       "grid_auto_columns": null,
       "grid_auto_flow": null,
       "grid_auto_rows": null,
       "grid_column": null,
       "grid_gap": null,
       "grid_row": null,
       "grid_template_areas": null,
       "grid_template_columns": null,
       "grid_template_rows": null,
       "height": null,
       "justify_content": null,
       "justify_items": null,
       "left": null,
       "margin": null,
       "max_height": null,
       "max_width": null,
       "min_height": null,
       "min_width": null,
       "object_fit": null,
       "object_position": null,
       "order": null,
       "overflow": null,
       "overflow_x": null,
       "overflow_y": null,
       "padding": null,
       "right": null,
       "top": null,
       "visibility": null,
       "width": null
      }
     },
     "32f0f1b4f86a4f6ea809501989eac8a1": {
      "model_module": "@jupyter-widgets/controls",
      "model_module_version": "1.5.0",
      "model_name": "DescriptionStyleModel",
      "state": {
       "_model_module": "@jupyter-widgets/controls",
       "_model_module_version": "1.5.0",
       "_model_name": "DescriptionStyleModel",
       "_view_count": null,
       "_view_module": "@jupyter-widgets/base",
       "_view_module_version": "1.2.0",
       "_view_name": "StyleView",
       "description_width": ""
      }
     },
     "3b7019565b58415dabd8c382db52e39b": {
      "model_module": "@jupyter-widgets/controls",
      "model_module_version": "1.5.0",
      "model_name": "FloatProgressModel",
      "state": {
       "_dom_classes": [],
       "_model_module": "@jupyter-widgets/controls",
       "_model_module_version": "1.5.0",
       "_model_name": "FloatProgressModel",
       "_view_count": null,
       "_view_module": "@jupyter-widgets/controls",
       "_view_module_version": "1.5.0",
       "_view_name": "ProgressView",
       "bar_style": "success",
       "description": "",
       "description_tooltip": null,
       "layout": "IPY_MODEL_0e631a7faa9e45e5a005b8a0d907472a",
       "max": 2,
       "min": 0,
       "orientation": "horizontal",
       "style": "IPY_MODEL_ab6bb89a0f934fd3baf7ca600ba75462",
       "value": 2
      }
     },
     "4602e618dfd44b9785a306d4a6aaf5d8": {
      "model_module": "@jupyter-widgets/controls",
      "model_module_version": "1.5.0",
      "model_name": "DescriptionStyleModel",
      "state": {
       "_model_module": "@jupyter-widgets/controls",
       "_model_module_version": "1.5.0",
       "_model_name": "DescriptionStyleModel",
       "_view_count": null,
       "_view_module": "@jupyter-widgets/base",
       "_view_module_version": "1.2.0",
       "_view_name": "StyleView",
       "description_width": ""
      }
     },
     "4bce4e82edf74bacbb3e0610ed86b2fa": {
      "model_module": "@jupyter-widgets/controls",
      "model_module_version": "1.5.0",
      "model_name": "HTMLModel",
      "state": {
       "_dom_classes": [],
       "_model_module": "@jupyter-widgets/controls",
       "_model_module_version": "1.5.0",
       "_model_name": "HTMLModel",
       "_view_count": null,
       "_view_module": "@jupyter-widgets/controls",
       "_view_module_version": "1.5.0",
       "_view_name": "HTMLView",
       "description": "",
       "description_tooltip": null,
       "layout": "IPY_MODEL_7291d1c587fb43b488e7663a74e66ba7",
       "placeholder": "​",
       "style": "IPY_MODEL_4602e618dfd44b9785a306d4a6aaf5d8",
       "value": "Iteration: 100%"
      }
     },
     "51d675fee0c34fe5a1a6713de4a61747": {
      "model_module": "@jupyter-widgets/controls",
      "model_module_version": "1.5.0",
      "model_name": "DescriptionStyleModel",
      "state": {
       "_model_module": "@jupyter-widgets/controls",
       "_model_module_version": "1.5.0",
       "_model_name": "DescriptionStyleModel",
       "_view_count": null,
       "_view_module": "@jupyter-widgets/base",
       "_view_module_version": "1.2.0",
       "_view_name": "StyleView",
       "description_width": ""
      }
     },
     "56d45fc37a0c47c1bbc1bd3de22887cc": {
      "model_module": "@jupyter-widgets/base",
      "model_module_version": "1.2.0",
      "model_name": "LayoutModel",
      "state": {
       "_model_module": "@jupyter-widgets/base",
       "_model_module_version": "1.2.0",
       "_model_name": "LayoutModel",
       "_view_count": null,
       "_view_module": "@jupyter-widgets/base",
       "_view_module_version": "1.2.0",
       "_view_name": "LayoutView",
       "align_content": null,
       "align_items": null,
       "align_self": null,
       "border": null,
       "bottom": null,
       "display": null,
       "flex": null,
       "flex_flow": null,
       "grid_area": null,
       "grid_auto_columns": null,
       "grid_auto_flow": null,
       "grid_auto_rows": null,
       "grid_column": null,
       "grid_gap": null,
       "grid_row": null,
       "grid_template_areas": null,
       "grid_template_columns": null,
       "grid_template_rows": null,
       "height": null,
       "justify_content": null,
       "justify_items": null,
       "left": null,
       "margin": null,
       "max_height": null,
       "max_width": null,
       "min_height": null,
       "min_width": null,
       "object_fit": null,
       "object_position": null,
       "order": null,
       "overflow": null,
       "overflow_x": null,
       "overflow_y": null,
       "padding": null,
       "right": null,
       "top": null,
       "visibility": null,
       "width": null
      }
     },
     "5efbceeaed8f457696a8a53746687732": {
      "model_module": "@jupyter-widgets/controls",
      "model_module_version": "1.5.0",
      "model_name": "HBoxModel",
      "state": {
       "_dom_classes": [],
       "_model_module": "@jupyter-widgets/controls",
       "_model_module_version": "1.5.0",
       "_model_name": "HBoxModel",
       "_view_count": null,
       "_view_module": "@jupyter-widgets/controls",
       "_view_module_version": "1.5.0",
       "_view_name": "HBoxView",
       "box_style": "",
       "children": [
        "IPY_MODEL_cb5117a1d8004389b50c5bf8157ee8bb",
        "IPY_MODEL_0478fa836116476c92e115d911b96af3",
        "IPY_MODEL_77a56ad4c6d64a89ba7e97e018381f36"
       ],
       "layout": "IPY_MODEL_8817f26619ac4e099798f3503bf9daa8"
      }
     },
     "6e6860cd0b814f8599a278c9a348a96c": {
      "model_module": "@jupyter-widgets/controls",
      "model_module_version": "1.5.0",
      "model_name": "HTMLModel",
      "state": {
       "_dom_classes": [],
       "_model_module": "@jupyter-widgets/controls",
       "_model_module_version": "1.5.0",
       "_model_name": "HTMLModel",
       "_view_count": null,
       "_view_module": "@jupyter-widgets/controls",
       "_view_module_version": "1.5.0",
       "_view_name": "HTMLView",
       "description": "",
       "description_tooltip": null,
       "layout": "IPY_MODEL_f59f5fcd81ad404e84b72fc4653a4e1f",
       "placeholder": "​",
       "style": "IPY_MODEL_51d675fee0c34fe5a1a6713de4a61747",
       "value": " 2/2 [8:55:04&lt;00:00, 16295.19s/it]"
      }
     },
     "7291d1c587fb43b488e7663a74e66ba7": {
      "model_module": "@jupyter-widgets/base",
      "model_module_version": "1.2.0",
      "model_name": "LayoutModel",
      "state": {
       "_model_module": "@jupyter-widgets/base",
       "_model_module_version": "1.2.0",
       "_model_name": "LayoutModel",
       "_view_count": null,
       "_view_module": "@jupyter-widgets/base",
       "_view_module_version": "1.2.0",
       "_view_name": "LayoutView",
       "align_content": null,
       "align_items": null,
       "align_self": null,
       "border": null,
       "bottom": null,
       "display": null,
       "flex": null,
       "flex_flow": null,
       "grid_area": null,
       "grid_auto_columns": null,
       "grid_auto_flow": null,
       "grid_auto_rows": null,
       "grid_column": null,
       "grid_gap": null,
       "grid_row": null,
       "grid_template_areas": null,
       "grid_template_columns": null,
       "grid_template_rows": null,
       "height": null,
       "justify_content": null,
       "justify_items": null,
       "left": null,
       "margin": null,
       "max_height": null,
       "max_width": null,
       "min_height": null,
       "min_width": null,
       "object_fit": null,
       "object_position": null,
       "order": null,
       "overflow": null,
       "overflow_x": null,
       "overflow_y": null,
       "padding": null,
       "right": null,
       "top": null,
       "visibility": null,
       "width": null
      }
     },
     "77a56ad4c6d64a89ba7e97e018381f36": {
      "model_module": "@jupyter-widgets/controls",
      "model_module_version": "1.5.0",
      "model_name": "HTMLModel",
      "state": {
       "_dom_classes": [],
       "_model_module": "@jupyter-widgets/controls",
       "_model_module_version": "1.5.0",
       "_model_name": "HTMLModel",
       "_view_count": null,
       "_view_module": "@jupyter-widgets/controls",
       "_view_module_version": "1.5.0",
       "_view_name": "HTMLView",
       "description": "",
       "description_tooltip": null,
       "layout": "IPY_MODEL_efcb8284867f4f7db193732508b5e88a",
       "placeholder": "​",
       "style": "IPY_MODEL_f3a4d73621f04990b511a0835f451ef0",
       "value": " 34408/34408 [4:50:29&lt;00:00,  1.88it/s]"
      }
     },
     "8087ef5524df48f8b5f7497089190ae7": {
      "model_module": "@jupyter-widgets/controls",
      "model_module_version": "1.5.0",
      "model_name": "ProgressStyleModel",
      "state": {
       "_model_module": "@jupyter-widgets/controls",
       "_model_module_version": "1.5.0",
       "_model_name": "ProgressStyleModel",
       "_view_count": null,
       "_view_module": "@jupyter-widgets/base",
       "_view_module_version": "1.2.0",
       "_view_name": "StyleView",
       "bar_color": null,
       "description_width": ""
      }
     },
     "85935dfa756b464a9783a13dcfedf583": {
      "model_module": "@jupyter-widgets/base",
      "model_module_version": "1.2.0",
      "model_name": "LayoutModel",
      "state": {
       "_model_module": "@jupyter-widgets/base",
       "_model_module_version": "1.2.0",
       "_model_name": "LayoutModel",
       "_view_count": null,
       "_view_module": "@jupyter-widgets/base",
       "_view_module_version": "1.2.0",
       "_view_name": "LayoutView",
       "align_content": null,
       "align_items": null,
       "align_self": null,
       "border": null,
       "bottom": null,
       "display": null,
       "flex": null,
       "flex_flow": null,
       "grid_area": null,
       "grid_auto_columns": null,
       "grid_auto_flow": null,
       "grid_auto_rows": null,
       "grid_column": null,
       "grid_gap": null,
       "grid_row": null,
       "grid_template_areas": null,
       "grid_template_columns": null,
       "grid_template_rows": null,
       "height": null,
       "justify_content": null,
       "justify_items": null,
       "left": null,
       "margin": null,
       "max_height": null,
       "max_width": null,
       "min_height": null,
       "min_width": null,
       "object_fit": null,
       "object_position": null,
       "order": null,
       "overflow": null,
       "overflow_x": null,
       "overflow_y": null,
       "padding": null,
       "right": null,
       "top": null,
       "visibility": null,
       "width": null
      }
     },
     "8817f26619ac4e099798f3503bf9daa8": {
      "model_module": "@jupyter-widgets/base",
      "model_module_version": "1.2.0",
      "model_name": "LayoutModel",
      "state": {
       "_model_module": "@jupyter-widgets/base",
       "_model_module_version": "1.2.0",
       "_model_name": "LayoutModel",
       "_view_count": null,
       "_view_module": "@jupyter-widgets/base",
       "_view_module_version": "1.2.0",
       "_view_name": "LayoutView",
       "align_content": null,
       "align_items": null,
       "align_self": null,
       "border": null,
       "bottom": null,
       "display": null,
       "flex": null,
       "flex_flow": null,
       "grid_area": null,
       "grid_auto_columns": null,
       "grid_auto_flow": null,
       "grid_auto_rows": null,
       "grid_column": null,
       "grid_gap": null,
       "grid_row": null,
       "grid_template_areas": null,
       "grid_template_columns": null,
       "grid_template_rows": null,
       "height": null,
       "justify_content": null,
       "justify_items": null,
       "left": null,
       "margin": null,
       "max_height": null,
       "max_width": null,
       "min_height": null,
       "min_width": null,
       "object_fit": null,
       "object_position": null,
       "order": null,
       "overflow": null,
       "overflow_x": null,
       "overflow_y": null,
       "padding": null,
       "right": null,
       "top": null,
       "visibility": null,
       "width": null
      }
     },
     "94339cfe263e4338b49d30824554a84b": {
      "model_module": "@jupyter-widgets/controls",
      "model_module_version": "1.5.0",
      "model_name": "DescriptionStyleModel",
      "state": {
       "_model_module": "@jupyter-widgets/controls",
       "_model_module_version": "1.5.0",
       "_model_name": "DescriptionStyleModel",
       "_view_count": null,
       "_view_module": "@jupyter-widgets/base",
       "_view_module_version": "1.2.0",
       "_view_name": "StyleView",
       "description_width": ""
      }
     },
     "a211ec57f8bc48abac3523afac81ceda": {
      "model_module": "@jupyter-widgets/controls",
      "model_module_version": "1.5.0",
      "model_name": "ProgressStyleModel",
      "state": {
       "_model_module": "@jupyter-widgets/controls",
       "_model_module_version": "1.5.0",
       "_model_name": "ProgressStyleModel",
       "_view_count": null,
       "_view_module": "@jupyter-widgets/base",
       "_view_module_version": "1.2.0",
       "_view_name": "StyleView",
       "bar_color": null,
       "description_width": ""
      }
     },
     "a2fe201b9223470ab8d73f0a3467c790": {
      "model_module": "@jupyter-widgets/controls",
      "model_module_version": "1.5.0",
      "model_name": "DescriptionStyleModel",
      "state": {
       "_model_module": "@jupyter-widgets/controls",
       "_model_module_version": "1.5.0",
       "_model_name": "DescriptionStyleModel",
       "_view_count": null,
       "_view_module": "@jupyter-widgets/base",
       "_view_module_version": "1.2.0",
       "_view_name": "StyleView",
       "description_width": ""
      }
     },
     "ab6bb89a0f934fd3baf7ca600ba75462": {
      "model_module": "@jupyter-widgets/controls",
      "model_module_version": "1.5.0",
      "model_name": "ProgressStyleModel",
      "state": {
       "_model_module": "@jupyter-widgets/controls",
       "_model_module_version": "1.5.0",
       "_model_name": "ProgressStyleModel",
       "_view_count": null,
       "_view_module": "@jupyter-widgets/base",
       "_view_module_version": "1.2.0",
       "_view_name": "StyleView",
       "bar_color": null,
       "description_width": ""
      }
     },
     "bea161abc6d64977b49dc98d4f593938": {
      "model_module": "@jupyter-widgets/controls",
      "model_module_version": "1.5.0",
      "model_name": "HBoxModel",
      "state": {
       "_dom_classes": [],
       "_model_module": "@jupyter-widgets/controls",
       "_model_module_version": "1.5.0",
       "_model_name": "HBoxModel",
       "_view_count": null,
       "_view_module": "@jupyter-widgets/controls",
       "_view_module_version": "1.5.0",
       "_view_name": "HBoxView",
       "box_style": "",
       "children": [
        "IPY_MODEL_4bce4e82edf74bacbb3e0610ed86b2fa",
        "IPY_MODEL_d74de799c1184c57a4ef16d767732452",
        "IPY_MODEL_d18440982fb5455c9a0cb373b851bbdc"
       ],
       "layout": "IPY_MODEL_fb75079de77043c1af2d126dfcf4ad36"
      }
     },
     "cb5117a1d8004389b50c5bf8157ee8bb": {
      "model_module": "@jupyter-widgets/controls",
      "model_module_version": "1.5.0",
      "model_name": "HTMLModel",
      "state": {
       "_dom_classes": [],
       "_model_module": "@jupyter-widgets/controls",
       "_model_module_version": "1.5.0",
       "_model_name": "HTMLModel",
       "_view_count": null,
       "_view_module": "@jupyter-widgets/controls",
       "_view_module_version": "1.5.0",
       "_view_name": "HTMLView",
       "description": "",
       "description_tooltip": null,
       "layout": "IPY_MODEL_85935dfa756b464a9783a13dcfedf583",
       "placeholder": "​",
       "style": "IPY_MODEL_94339cfe263e4338b49d30824554a84b",
       "value": "Iteration: 100%"
      }
     },
     "d18440982fb5455c9a0cb373b851bbdc": {
      "model_module": "@jupyter-widgets/controls",
      "model_module_version": "1.5.0",
      "model_name": "HTMLModel",
      "state": {
       "_dom_classes": [],
       "_model_module": "@jupyter-widgets/controls",
       "_model_module_version": "1.5.0",
       "_model_name": "HTMLModel",
       "_view_count": null,
       "_view_module": "@jupyter-widgets/controls",
       "_view_module_version": "1.5.0",
       "_view_name": "HTMLView",
       "description": "",
       "description_tooltip": null,
       "layout": "IPY_MODEL_e3a91a74b56449f38991b1def6309fd1",
       "placeholder": "​",
       "style": "IPY_MODEL_32f0f1b4f86a4f6ea809501989eac8a1",
       "value": " 34408/34408 [4:04:34&lt;00:00,  3.76it/s]"
      }
     },
     "d74de799c1184c57a4ef16d767732452": {
      "model_module": "@jupyter-widgets/controls",
      "model_module_version": "1.5.0",
      "model_name": "FloatProgressModel",
      "state": {
       "_dom_classes": [],
       "_model_module": "@jupyter-widgets/controls",
       "_model_module_version": "1.5.0",
       "_model_name": "FloatProgressModel",
       "_view_count": null,
       "_view_module": "@jupyter-widgets/controls",
       "_view_module_version": "1.5.0",
       "_view_name": "ProgressView",
       "bar_style": "success",
       "description": "",
       "description_tooltip": null,
       "layout": "IPY_MODEL_dc6d3a26c10c4fb5b6b7cb9d360ebdf2",
       "max": 34408,
       "min": 0,
       "orientation": "horizontal",
       "style": "IPY_MODEL_8087ef5524df48f8b5f7497089190ae7",
       "value": 34408
      }
     },
     "dc6d3a26c10c4fb5b6b7cb9d360ebdf2": {
      "model_module": "@jupyter-widgets/base",
      "model_module_version": "1.2.0",
      "model_name": "LayoutModel",
      "state": {
       "_model_module": "@jupyter-widgets/base",
       "_model_module_version": "1.2.0",
       "_model_name": "LayoutModel",
       "_view_count": null,
       "_view_module": "@jupyter-widgets/base",
       "_view_module_version": "1.2.0",
       "_view_name": "LayoutView",
       "align_content": null,
       "align_items": null,
       "align_self": null,
       "border": null,
       "bottom": null,
       "display": null,
       "flex": null,
       "flex_flow": null,
       "grid_area": null,
       "grid_auto_columns": null,
       "grid_auto_flow": null,
       "grid_auto_rows": null,
       "grid_column": null,
       "grid_gap": null,
       "grid_row": null,
       "grid_template_areas": null,
       "grid_template_columns": null,
       "grid_template_rows": null,
       "height": null,
       "justify_content": null,
       "justify_items": null,
       "left": null,
       "margin": null,
       "max_height": null,
       "max_width": null,
       "min_height": null,
       "min_width": null,
       "object_fit": null,
       "object_position": null,
       "order": null,
       "overflow": null,
       "overflow_x": null,
       "overflow_y": null,
       "padding": null,
       "right": null,
       "top": null,
       "visibility": null,
       "width": null
      }
     },
     "e00c0508108346ef9837745acd952edd": {
      "model_module": "@jupyter-widgets/controls",
      "model_module_version": "1.5.0",
      "model_name": "HBoxModel",
      "state": {
       "_dom_classes": [],
       "_model_module": "@jupyter-widgets/controls",
       "_model_module_version": "1.5.0",
       "_model_name": "HBoxModel",
       "_view_count": null,
       "_view_module": "@jupyter-widgets/controls",
       "_view_module_version": "1.5.0",
       "_view_name": "HBoxView",
       "box_style": "",
       "children": [
        "IPY_MODEL_f60d5fb6beb947ddb74faeb4f2e788c1",
        "IPY_MODEL_3b7019565b58415dabd8c382db52e39b",
        "IPY_MODEL_6e6860cd0b814f8599a278c9a348a96c"
       ],
       "layout": "IPY_MODEL_56d45fc37a0c47c1bbc1bd3de22887cc"
      }
     },
     "e3a91a74b56449f38991b1def6309fd1": {
      "model_module": "@jupyter-widgets/base",
      "model_module_version": "1.2.0",
      "model_name": "LayoutModel",
      "state": {
       "_model_module": "@jupyter-widgets/base",
       "_model_module_version": "1.2.0",
       "_model_name": "LayoutModel",
       "_view_count": null,
       "_view_module": "@jupyter-widgets/base",
       "_view_module_version": "1.2.0",
       "_view_name": "LayoutView",
       "align_content": null,
       "align_items": null,
       "align_self": null,
       "border": null,
       "bottom": null,
       "display": null,
       "flex": null,
       "flex_flow": null,
       "grid_area": null,
       "grid_auto_columns": null,
       "grid_auto_flow": null,
       "grid_auto_rows": null,
       "grid_column": null,
       "grid_gap": null,
       "grid_row": null,
       "grid_template_areas": null,
       "grid_template_columns": null,
       "grid_template_rows": null,
       "height": null,
       "justify_content": null,
       "justify_items": null,
       "left": null,
       "margin": null,
       "max_height": null,
       "max_width": null,
       "min_height": null,
       "min_width": null,
       "object_fit": null,
       "object_position": null,
       "order": null,
       "overflow": null,
       "overflow_x": null,
       "overflow_y": null,
       "padding": null,
       "right": null,
       "top": null,
       "visibility": null,
       "width": null
      }
     },
     "ee5509f7c7f7467ea1947570a29a25fd": {
      "model_module": "@jupyter-widgets/base",
      "model_module_version": "1.2.0",
      "model_name": "LayoutModel",
      "state": {
       "_model_module": "@jupyter-widgets/base",
       "_model_module_version": "1.2.0",
       "_model_name": "LayoutModel",
       "_view_count": null,
       "_view_module": "@jupyter-widgets/base",
       "_view_module_version": "1.2.0",
       "_view_name": "LayoutView",
       "align_content": null,
       "align_items": null,
       "align_self": null,
       "border": null,
       "bottom": null,
       "display": null,
       "flex": null,
       "flex_flow": null,
       "grid_area": null,
       "grid_auto_columns": null,
       "grid_auto_flow": null,
       "grid_auto_rows": null,
       "grid_column": null,
       "grid_gap": null,
       "grid_row": null,
       "grid_template_areas": null,
       "grid_template_columns": null,
       "grid_template_rows": null,
       "height": null,
       "justify_content": null,
       "justify_items": null,
       "left": null,
       "margin": null,
       "max_height": null,
       "max_width": null,
       "min_height": null,
       "min_width": null,
       "object_fit": null,
       "object_position": null,
       "order": null,
       "overflow": null,
       "overflow_x": null,
       "overflow_y": null,
       "padding": null,
       "right": null,
       "top": null,
       "visibility": null,
       "width": null
      }
     },
     "efcb8284867f4f7db193732508b5e88a": {
      "model_module": "@jupyter-widgets/base",
      "model_module_version": "1.2.0",
      "model_name": "LayoutModel",
      "state": {
       "_model_module": "@jupyter-widgets/base",
       "_model_module_version": "1.2.0",
       "_model_name": "LayoutModel",
       "_view_count": null,
       "_view_module": "@jupyter-widgets/base",
       "_view_module_version": "1.2.0",
       "_view_name": "LayoutView",
       "align_content": null,
       "align_items": null,
       "align_self": null,
       "border": null,
       "bottom": null,
       "display": null,
       "flex": null,
       "flex_flow": null,
       "grid_area": null,
       "grid_auto_columns": null,
       "grid_auto_flow": null,
       "grid_auto_rows": null,
       "grid_column": null,
       "grid_gap": null,
       "grid_row": null,
       "grid_template_areas": null,
       "grid_template_columns": null,
       "grid_template_rows": null,
       "height": null,
       "justify_content": null,
       "justify_items": null,
       "left": null,
       "margin": null,
       "max_height": null,
       "max_width": null,
       "min_height": null,
       "min_width": null,
       "object_fit": null,
       "object_position": null,
       "order": null,
       "overflow": null,
       "overflow_x": null,
       "overflow_y": null,
       "padding": null,
       "right": null,
       "top": null,
       "visibility": null,
       "width": null
      }
     },
     "f3a4d73621f04990b511a0835f451ef0": {
      "model_module": "@jupyter-widgets/controls",
      "model_module_version": "1.5.0",
      "model_name": "DescriptionStyleModel",
      "state": {
       "_model_module": "@jupyter-widgets/controls",
       "_model_module_version": "1.5.0",
       "_model_name": "DescriptionStyleModel",
       "_view_count": null,
       "_view_module": "@jupyter-widgets/base",
       "_view_module_version": "1.2.0",
       "_view_name": "StyleView",
       "description_width": ""
      }
     },
     "f59f5fcd81ad404e84b72fc4653a4e1f": {
      "model_module": "@jupyter-widgets/base",
      "model_module_version": "1.2.0",
      "model_name": "LayoutModel",
      "state": {
       "_model_module": "@jupyter-widgets/base",
       "_model_module_version": "1.2.0",
       "_model_name": "LayoutModel",
       "_view_count": null,
       "_view_module": "@jupyter-widgets/base",
       "_view_module_version": "1.2.0",
       "_view_name": "LayoutView",
       "align_content": null,
       "align_items": null,
       "align_self": null,
       "border": null,
       "bottom": null,
       "display": null,
       "flex": null,
       "flex_flow": null,
       "grid_area": null,
       "grid_auto_columns": null,
       "grid_auto_flow": null,
       "grid_auto_rows": null,
       "grid_column": null,
       "grid_gap": null,
       "grid_row": null,
       "grid_template_areas": null,
       "grid_template_columns": null,
       "grid_template_rows": null,
       "height": null,
       "justify_content": null,
       "justify_items": null,
       "left": null,
       "margin": null,
       "max_height": null,
       "max_width": null,
       "min_height": null,
       "min_width": null,
       "object_fit": null,
       "object_position": null,
       "order": null,
       "overflow": null,
       "overflow_x": null,
       "overflow_y": null,
       "padding": null,
       "right": null,
       "top": null,
       "visibility": null,
       "width": null
      }
     },
     "f60d5fb6beb947ddb74faeb4f2e788c1": {
      "model_module": "@jupyter-widgets/controls",
      "model_module_version": "1.5.0",
      "model_name": "HTMLModel",
      "state": {
       "_dom_classes": [],
       "_model_module": "@jupyter-widgets/controls",
       "_model_module_version": "1.5.0",
       "_model_name": "HTMLModel",
       "_view_count": null,
       "_view_module": "@jupyter-widgets/controls",
       "_view_module_version": "1.5.0",
       "_view_name": "HTMLView",
       "description": "",
       "description_tooltip": null,
       "layout": "IPY_MODEL_ee5509f7c7f7467ea1947570a29a25fd",
       "placeholder": "​",
       "style": "IPY_MODEL_a2fe201b9223470ab8d73f0a3467c790",
       "value": "Epoch: 100%"
      }
     },
     "fb75079de77043c1af2d126dfcf4ad36": {
      "model_module": "@jupyter-widgets/base",
      "model_module_version": "1.2.0",
      "model_name": "LayoutModel",
      "state": {
       "_model_module": "@jupyter-widgets/base",
       "_model_module_version": "1.2.0",
       "_model_name": "LayoutModel",
       "_view_count": null,
       "_view_module": "@jupyter-widgets/base",
       "_view_module_version": "1.2.0",
       "_view_name": "LayoutView",
       "align_content": null,
       "align_items": null,
       "align_self": null,
       "border": null,
       "bottom": null,
       "display": null,
       "flex": null,
       "flex_flow": null,
       "grid_area": null,
       "grid_auto_columns": null,
       "grid_auto_flow": null,
       "grid_auto_rows": null,
       "grid_column": null,
       "grid_gap": null,
       "grid_row": null,
       "grid_template_areas": null,
       "grid_template_columns": null,
       "grid_template_rows": null,
       "height": null,
       "justify_content": null,
       "justify_items": null,
       "left": null,
       "margin": null,
       "max_height": null,
       "max_width": null,
       "min_height": null,
       "min_width": null,
       "object_fit": null,
       "object_position": null,
       "order": null,
       "overflow": null,
       "overflow_x": null,
       "overflow_y": null,
       "padding": null,
       "right": null,
       "top": null,
       "visibility": null,
       "width": null
      }
     }
    },
    "version_major": 2,
    "version_minor": 0
   }
  }
 },
 "nbformat": 4,
 "nbformat_minor": 5
}
